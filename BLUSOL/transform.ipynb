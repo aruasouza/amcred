{
 "cells": [
  {
   "cell_type": "code",
   "execution_count": 2,
   "metadata": {},
   "outputs": [],
   "source": [
    "import pandas as pd\n",
    "import numpy as np"
   ]
  },
  {
   "cell_type": "code",
   "execution_count": 3,
   "metadata": {},
   "outputs": [],
   "source": [
    "df1 = pd.read_excel('CLIENTES BLUSOL 2019.xlsx')\n",
    "df2 = pd.read_excel('CLIENTES BLUSOL 2020.xlsx')\n",
    "df3 = pd.read_excel('CLIENTES BLUSOL 2021 A 2023.xlsx')"
   ]
  },
  {
   "cell_type": "code",
   "execution_count": 4,
   "metadata": {},
   "outputs": [],
   "source": [
    "df = pd.concat([df1,df2,df3])"
   ]
  },
  {
   "cell_type": "code",
   "execution_count": 6,
   "metadata": {},
   "outputs": [
    {
     "name": "stdout",
     "output_type": "stream",
     "text": [
      "<class 'pandas.core.frame.DataFrame'>\n",
      "Int64Index: 48454 entries, 0 to 24434\n",
      "Data columns (total 38 columns):\n",
      " #   Column                        Non-Null Count  Dtype  \n",
      "---  ------                        --------------  -----  \n",
      " 0   IDCliente                     48454 non-null  int64  \n",
      " 1   tempodeResidenciaAnos         5758 non-null   float64\n",
      " 2   tempodeResidenciaMeses        1902 non-null   float64\n",
      " 3   situacaodoImoveldeResidencia  48454 non-null  object \n",
      " 4   nroPessoasnaCasa              29914 non-null  float64\n",
      " 5   situacaoImoveldeAtividade     48454 non-null  object \n",
      " 6   tempoResidenciaImovel         73 non-null     float64\n",
      " 7   finalDoContrato               1829 non-null   float64\n",
      " 8   tipodePonto                   48454 non-null  object \n",
      " 9   formacaoEscolar               48454 non-null  object \n",
      " 10  atividadeExercida             48454 non-null  object \n",
      " 11  tempodeAtividade              9285 non-null   float64\n",
      " 12  constituicao                  48454 non-null  object \n",
      " 13  pessoaFisicaJuridica          33738 non-null  object \n",
      " 14  numerodeFuncionarios          34939 non-null  float64\n",
      " 15  rendaFamiliarMensal           48452 non-null  float64\n",
      " 16  totaldasReceitas              44930 non-null  float64\n",
      " 17  conceitoSPC                   18950 non-null  object \n",
      " 18  dataDoSPC                     9444 non-null   object \n",
      " 19  classificacao                 48412 non-null  object \n",
      " 20  produto                       48454 non-null  object \n",
      " 21  finalidadeEmprestimo          48454 non-null  object \n",
      " 22  taxaaoMes                     48454 non-null  float64\n",
      " 23  valorEmprestado               48454 non-null  float64\n",
      " 24  quantidadeParcelas            48454 non-null  int64  \n",
      " 25  nroParcelasPagas              48454 non-null  int64  \n",
      " 26  dataEmprestimo                48454 non-null  object \n",
      " 27  dataLiberacao                 48454 non-null  object \n",
      " 28  dataCadastro                  48454 non-null  object \n",
      " 29  primeiroVencimento            48454 non-null  object \n",
      " 30  maiorAtrasoPagas              45596 non-null  float64\n",
      " 31  situacaoCredito               48454 non-null  object \n",
      " 32  CEP                           48454 non-null  object \n",
      " 33  bairro                        48452 non-null  object \n",
      " 34  cidade                        48454 non-null  object \n",
      " 35  CEPEmpresa                    48454 non-null  object \n",
      " 36  bairroEmpresa                 48415 non-null  object \n",
      " 37  cidadeEmpresa                 48450 non-null  object \n",
      "dtypes: float64(12), int64(3), object(23)\n",
      "memory usage: 14.4+ MB\n"
     ]
    }
   ],
   "source": [
    "df.info()"
   ]
  },
  {
   "cell_type": "code",
   "execution_count": 19,
   "metadata": {},
   "outputs": [],
   "source": [
    "for col in df.columns:\n",
    "    if df[col].dtype in ['float64','int64']:\n",
    "        if df[col].isna().sum() > 10000:\n",
    "            del(df[col])\n",
    "        else:\n",
    "            df[col] = df[col].fillna(0)\n",
    "    else:\n",
    "        if df[col].isna().sum() > 10000:\n",
    "            del(df[col])\n",
    "        else:\n",
    "            df[col] = df[col].fillna('Não Informado')"
   ]
  },
  {
   "cell_type": "code",
   "execution_count": 22,
   "metadata": {},
   "outputs": [],
   "source": [
    "df = df.reset_index(drop = True)"
   ]
  },
  {
   "cell_type": "code",
   "execution_count": 23,
   "metadata": {},
   "outputs": [],
   "source": [
    "df.to_feather('clientes_blusol.feather')"
   ]
  }
 ],
 "metadata": {
  "kernelspec": {
   "display_name": "Python 3",
   "language": "python",
   "name": "python3"
  },
  "language_info": {
   "codemirror_mode": {
    "name": "ipython",
    "version": 3
   },
   "file_extension": ".py",
   "mimetype": "text/x-python",
   "name": "python",
   "nbconvert_exporter": "python",
   "pygments_lexer": "ipython3",
   "version": "3.9.13"
  },
  "orig_nbformat": 4
 },
 "nbformat": 4,
 "nbformat_minor": 2
}
