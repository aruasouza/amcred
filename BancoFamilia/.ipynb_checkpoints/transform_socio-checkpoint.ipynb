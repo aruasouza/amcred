{
 "cells": [
  {
   "cell_type": "code",
   "execution_count": 7,
   "id": "5ba6c2af-ea8a-4bf1-9a42-0f54a508d340",
   "metadata": {},
   "outputs": [],
   "source": [
    "import pandas as pd\n",
    "import numpy as np\n",
    "from difflib import SequenceMatcher"
   ]
  },
  {
   "cell_type": "code",
   "execution_count": 206,
   "id": "151feff8-5c91-469a-8960-8e713604412f",
   "metadata": {},
   "outputs": [],
   "source": [
    "def similar(a, b):\n",
    "    grades = []\n",
    "    a = a.split(' ')\n",
    "    b = b.split(' ')\n",
    "    for p1 in a:\n",
    "        for p2 in b:\n",
    "            grades.append(SequenceMatcher(None, p1, p2).ratio())\n",
    "    return max(grades)"
   ]
  },
  {
   "cell_type": "code",
   "execution_count": 225,
   "id": "a90307f6-eb66-4fe1-8784-8a9bc8552395",
   "metadata": {},
   "outputs": [],
   "source": [
    "df_socio = pd.read_excel('BF_Dados_Socio_Economicos.xlsx')"
   ]
  },
  {
   "cell_type": "code",
   "execution_count": 226,
   "id": "f7bed36e-659d-4dc9-a58c-efe5618bae7f",
   "metadata": {},
   "outputs": [
    {
     "data": {
      "text/html": [
       "<div>\n",
       "<style scoped>\n",
       "    .dataframe tbody tr th:only-of-type {\n",
       "        vertical-align: middle;\n",
       "    }\n",
       "\n",
       "    .dataframe tbody tr th {\n",
       "        vertical-align: top;\n",
       "    }\n",
       "\n",
       "    .dataframe thead th {\n",
       "        text-align: right;\n",
       "    }\n",
       "</style>\n",
       "<table border=\"1\" class=\"dataframe\">\n",
       "  <thead>\n",
       "    <tr style=\"text-align: right;\">\n",
       "      <th></th>\n",
       "      <th>identificação</th>\n",
       "      <th>valor_solicitado</th>\n",
       "      <th>prazo_em_meses</th>\n",
       "      <th>melhor_data_vencimento</th>\n",
       "      <th>melhor_valor_parcela</th>\n",
       "      <th>atividade</th>\n",
       "      <th>tipo_atividade</th>\n",
       "      <th>tempo_atividade</th>\n",
       "      <th>tempo_atuacao_ramo_atividade</th>\n",
       "      <th>total_receitas</th>\n",
       "      <th>numero_de_pessoas_na_casa</th>\n",
       "      <th>situacao_do_imovel</th>\n",
       "      <th>tempo_de_residancia__anos</th>\n",
       "      <th>media_dos_faturamentos</th>\n",
       "    </tr>\n",
       "  </thead>\n",
       "  <tbody>\n",
       "    <tr>\n",
       "      <th>0</th>\n",
       "      <td>251552</td>\n",
       "      <td>5000</td>\n",
       "      <td>8</td>\n",
       "      <td>45031</td>\n",
       "      <td>715</td>\n",
       "      <td>MARMITAS FIT</td>\n",
       "      <td>Informal</td>\n",
       "      <td>De 3 a 4 anos</td>\n",
       "      <td>De 2 a 4 anos</td>\n",
       "      <td>14000</td>\n",
       "      <td>1.0</td>\n",
       "      <td>Próprio</td>\n",
       "      <td>De 2 a 3 anos</td>\n",
       "      <td>14666.67</td>\n",
       "    </tr>\n",
       "    <tr>\n",
       "      <th>1</th>\n",
       "      <td>111991</td>\n",
       "      <td>2500</td>\n",
       "      <td>12</td>\n",
       "      <td>45031</td>\n",
       "      <td>300</td>\n",
       "      <td>DIARISTA E VENDEDORA</td>\n",
       "      <td>Formal</td>\n",
       "      <td>Acima de 10 anos</td>\n",
       "      <td>Acima de 10 anos</td>\n",
       "      <td>6650</td>\n",
       "      <td>1.0</td>\n",
       "      <td>Próprio</td>\n",
       "      <td>Acima de 10 anos</td>\n",
       "      <td>6666.67</td>\n",
       "    </tr>\n",
       "    <tr>\n",
       "      <th>2</th>\n",
       "      <td>257510</td>\n",
       "      <td>5000</td>\n",
       "      <td>8</td>\n",
       "      <td>45031</td>\n",
       "      <td>720</td>\n",
       "      <td>MOTOBOY</td>\n",
       "      <td>Formal</td>\n",
       "      <td>De 2 a 3 anos</td>\n",
       "      <td>De 2 a 4 anos</td>\n",
       "      <td>7239</td>\n",
       "      <td>3.0</td>\n",
       "      <td>Alugado</td>\n",
       "      <td>De 2 a 3 anos</td>\n",
       "      <td>7333.33</td>\n",
       "    </tr>\n",
       "    <tr>\n",
       "      <th>3</th>\n",
       "      <td>265309</td>\n",
       "      <td>5000</td>\n",
       "      <td>8</td>\n",
       "      <td>45031</td>\n",
       "      <td>715</td>\n",
       "      <td>JARDINEIRO / CONSTRUÇÃO CIVIL</td>\n",
       "      <td>Formal</td>\n",
       "      <td>De 1 a 2 anos</td>\n",
       "      <td>Acima de 10 anos</td>\n",
       "      <td>10000</td>\n",
       "      <td>3.0</td>\n",
       "      <td>Próprio</td>\n",
       "      <td>Acima de 10 anos</td>\n",
       "      <td>10000.00</td>\n",
       "    </tr>\n",
       "    <tr>\n",
       "      <th>4</th>\n",
       "      <td>251777</td>\n",
       "      <td>5000</td>\n",
       "      <td>7</td>\n",
       "      <td>45031</td>\n",
       "      <td>715</td>\n",
       "      <td>VENDAS</td>\n",
       "      <td>Formal</td>\n",
       "      <td>De 3 a 4 anos</td>\n",
       "      <td>De 4 a 6 anos</td>\n",
       "      <td>5023.6</td>\n",
       "      <td>3.0</td>\n",
       "      <td>Próprio</td>\n",
       "      <td>Acima de 10 anos</td>\n",
       "      <td>4674.33</td>\n",
       "    </tr>\n",
       "  </tbody>\n",
       "</table>\n",
       "</div>"
      ],
      "text/plain": [
       "  identificação valor_solicitado prazo_em_meses melhor_data_vencimento  \\\n",
       "0        251552             5000              8                  45031   \n",
       "1        111991             2500             12                  45031   \n",
       "2        257510             5000              8                  45031   \n",
       "3        265309             5000              8                  45031   \n",
       "4        251777             5000              7                  45031   \n",
       "\n",
       "  melhor_valor_parcela                      atividade tipo_atividade  \\\n",
       "0                  715                   MARMITAS FIT       Informal   \n",
       "1                  300           DIARISTA E VENDEDORA         Formal   \n",
       "2                  720                        MOTOBOY         Formal   \n",
       "3                  715  JARDINEIRO / CONSTRUÇÃO CIVIL         Formal   \n",
       "4                  715                         VENDAS         Formal   \n",
       "\n",
       "    tempo_atividade tempo_atuacao_ramo_atividade total_receitas  \\\n",
       "0     De 3 a 4 anos                De 2 a 4 anos          14000   \n",
       "1  Acima de 10 anos             Acima de 10 anos           6650   \n",
       "2     De 2 a 3 anos                De 2 a 4 anos           7239   \n",
       "3     De 1 a 2 anos             Acima de 10 anos          10000   \n",
       "4     De 3 a 4 anos                De 4 a 6 anos         5023.6   \n",
       "\n",
       "   numero_de_pessoas_na_casa situacao_do_imovel tempo_de_residancia__anos  \\\n",
       "0                        1.0            Próprio             De 2 a 3 anos   \n",
       "1                        1.0            Próprio          Acima de 10 anos   \n",
       "2                        3.0            Alugado             De 2 a 3 anos   \n",
       "3                        3.0            Próprio          Acima de 10 anos   \n",
       "4                        3.0            Próprio          Acima de 10 anos   \n",
       "\n",
       "   media_dos_faturamentos  \n",
       "0                14666.67  \n",
       "1                 6666.67  \n",
       "2                 7333.33  \n",
       "3                10000.00  \n",
       "4                 4674.33  "
      ]
     },
     "execution_count": 226,
     "metadata": {},
     "output_type": "execute_result"
    }
   ],
   "source": [
    "df_socio.head()"
   ]
  },
  {
   "cell_type": "code",
   "execution_count": 227,
   "id": "ff6229ff-9958-47be-8ace-a261075532e7",
   "metadata": {},
   "outputs": [],
   "source": [
    "df_socio['atividade'] = df_socio['atividade'].fillna('NÃO INFORMADO').apply(str).apply(lambda x: 'NÃO INFORMADO' if len(x) < 3 else x)"
   ]
  },
  {
   "cell_type": "code",
   "execution_count": 228,
   "id": "37fdb669-63da-4337-ad81-70c66193437e",
   "metadata": {},
   "outputs": [],
   "source": [
    "def transform_str(x):\n",
    "    x = x.split('/')[0]\n",
    "    x = x.split(' E ')[0]\n",
    "    x = x.replace(' DE ',' ').replace(' EM ',' ').replace(' (A)','')\n",
    "    x = ' '.join(x.split(' ')[:3])\n",
    "    return x\n",
    "df_socio['atividade'] = df_socio['atividade'].apply(transform_str)"
   ]
  },
  {
   "cell_type": "code",
   "execution_count": 229,
   "id": "e2a24040-403c-4029-9e7a-9f825dd56ad4",
   "metadata": {},
   "outputs": [
    {
     "data": {
      "text/plain": [
       "7832"
      ]
     },
     "execution_count": 229,
     "metadata": {},
     "output_type": "execute_result"
    }
   ],
   "source": [
    "atv = list(df_socio['atividade'].unique())\n",
    "len(atv)"
   ]
  },
  {
   "cell_type": "code",
   "execution_count": 230,
   "id": "45fb93a1-bfbe-4d84-b1f9-05b3281ef3eb",
   "metadata": {},
   "outputs": [
    {
     "data": {
      "text/plain": [
       "Index(['DIARISTA', 'PEDREIRO', 'VENDAS', 'AUTONOMO', 'VENDEDOR', 'AGRICULTURA',\n",
       "       'VENDEDORA', 'COSTUREIRA', 'AGRICULTOR', 'MANICURE',\n",
       "       ...\n",
       "       'TRANSPORTES', 'PET SHOP', 'MICROCRÉDITO', 'MARKETING DIGITAL',\n",
       "       'SECRETARIA', 'PIZZAIOLO', 'LOCATÁRIO', 'VENDAS LINGERIE', 'POUSADA',\n",
       "       'SERVIÇOS RURAIS'],\n",
       "      dtype='object', name='atividade', length=210)"
      ]
     },
     "execution_count": 230,
     "metadata": {},
     "output_type": "execute_result"
    }
   ],
   "source": [
    "group = df_socio[['identificação','atividade']].groupby('atividade').count().sort_values('identificação',ascending = False)\n",
    "top100 = group.index[:210]\n",
    "top100"
   ]
  },
  {
   "cell_type": "code",
   "execution_count": 231,
   "id": "f8169498-63d2-4c51-8361-83ce045cc5ad",
   "metadata": {},
   "outputs": [],
   "source": [
    "mapa = {}\n",
    "for atividade in top100:\n",
    "    for value in mapa.values():\n",
    "        if similar(atividade,value) > 0.7:\n",
    "            mapa[atividade] = value\n",
    "            break\n",
    "    if atividade not in mapa:\n",
    "        mapa[atividade] = atividade"
   ]
  },
  {
   "cell_type": "code",
   "execution_count": 232,
   "id": "201892a5-b551-4baa-b5d9-1076c31ae3a2",
   "metadata": {},
   "outputs": [
    {
     "data": {
      "text/plain": [
       "100"
      ]
     },
     "execution_count": 232,
     "metadata": {},
     "output_type": "execute_result"
    }
   ],
   "source": [
    "newtop = set(mapa.values())\n",
    "len(newtop)"
   ]
  },
  {
   "cell_type": "code",
   "execution_count": 233,
   "id": "1e165b54-18a2-462b-a164-d0dfd07cd6f7",
   "metadata": {},
   "outputs": [],
   "source": [
    "cash = {}\n",
    "def convert(x):\n",
    "    if x in cash:\n",
    "        return cash[x]\n",
    "    for atv in newtop:\n",
    "        if similar(atv,x) > 0.7:\n",
    "            cash[x] = atv\n",
    "            return atv\n",
    "    cash[x] = 'OUTROS'\n",
    "    return 'OUTROS'\n",
    "for valor in df_socio['atividade'].unique():\n",
    "    convert(valor)"
   ]
  },
  {
   "cell_type": "code",
   "execution_count": 234,
   "id": "8c8eebf3-8e15-46f4-a52d-4b97e880f3b2",
   "metadata": {},
   "outputs": [],
   "source": [
    "df_socio['atividade'] = df_socio['atividade'].apply(lambda x: convert(x))"
   ]
  },
  {
   "cell_type": "code",
   "execution_count": 235,
   "id": "8022085d-4ca9-47cb-b634-b267a363bab9",
   "metadata": {},
   "outputs": [
    {
     "data": {
      "text/html": [
       "<div>\n",
       "<style scoped>\n",
       "    .dataframe tbody tr th:only-of-type {\n",
       "        vertical-align: middle;\n",
       "    }\n",
       "\n",
       "    .dataframe tbody tr th {\n",
       "        vertical-align: top;\n",
       "    }\n",
       "\n",
       "    .dataframe thead th {\n",
       "        text-align: right;\n",
       "    }\n",
       "</style>\n",
       "<table border=\"1\" class=\"dataframe\">\n",
       "  <thead>\n",
       "    <tr style=\"text-align: right;\">\n",
       "      <th></th>\n",
       "      <th>identificação</th>\n",
       "    </tr>\n",
       "    <tr>\n",
       "      <th>atividade</th>\n",
       "      <th></th>\n",
       "    </tr>\n",
       "  </thead>\n",
       "  <tbody>\n",
       "    <tr>\n",
       "      <th>OUTROS</th>\n",
       "      <td>6118</td>\n",
       "    </tr>\n",
       "    <tr>\n",
       "      <th>DIARISTA</th>\n",
       "      <td>4739</td>\n",
       "    </tr>\n",
       "    <tr>\n",
       "      <th>VENDAS</th>\n",
       "      <td>4637</td>\n",
       "    </tr>\n",
       "    <tr>\n",
       "      <th>VENDEDOR</th>\n",
       "      <td>4447</td>\n",
       "    </tr>\n",
       "    <tr>\n",
       "      <th>AUTONOMO</th>\n",
       "      <td>3699</td>\n",
       "    </tr>\n",
       "    <tr>\n",
       "      <th>...</th>\n",
       "      <td>...</td>\n",
       "    </tr>\n",
       "    <tr>\n",
       "      <th>VIGILANTE</th>\n",
       "      <td>63</td>\n",
       "    </tr>\n",
       "    <tr>\n",
       "      <th>TABACARIA</th>\n",
       "      <td>61</td>\n",
       "    </tr>\n",
       "    <tr>\n",
       "      <th>EMPREENDEDOR INDIVIDUAL</th>\n",
       "      <td>59</td>\n",
       "    </tr>\n",
       "    <tr>\n",
       "      <th>TORNEARIA</th>\n",
       "      <td>57</td>\n",
       "    </tr>\n",
       "    <tr>\n",
       "      <th>POUSADA</th>\n",
       "      <td>51</td>\n",
       "    </tr>\n",
       "  </tbody>\n",
       "</table>\n",
       "<p>101 rows × 1 columns</p>\n",
       "</div>"
      ],
      "text/plain": [
       "                         identificação\n",
       "atividade                             \n",
       "OUTROS                            6118\n",
       "DIARISTA                          4739\n",
       "VENDAS                            4637\n",
       "VENDEDOR                          4447\n",
       "AUTONOMO                          3699\n",
       "...                                ...\n",
       "VIGILANTE                           63\n",
       "TABACARIA                           61\n",
       "EMPREENDEDOR INDIVIDUAL             59\n",
       "TORNEARIA                           57\n",
       "POUSADA                             51\n",
       "\n",
       "[101 rows x 1 columns]"
      ]
     },
     "execution_count": 235,
     "metadata": {},
     "output_type": "execute_result"
    }
   ],
   "source": [
    "group = df_socio[['identificação','atividade']].groupby('atividade').count().sort_values('identificação',ascending = False)\n",
    "group"
   ]
  },
  {
   "cell_type": "code",
   "execution_count": 236,
   "id": "5ccd239c-ad08-47e4-84e4-5b0e77e5931d",
   "metadata": {},
   "outputs": [
    {
     "name": "stdout",
     "output_type": "stream",
     "text": [
      "<class 'pandas.core.frame.DataFrame'>\n",
      "RangeIndex: 63825 entries, 0 to 63824\n",
      "Data columns (total 14 columns):\n",
      " #   Column                        Non-Null Count  Dtype  \n",
      "---  ------                        --------------  -----  \n",
      " 0   identificação                 63713 non-null  object \n",
      " 1   valor_solicitado              63713 non-null  object \n",
      " 2   prazo_em_meses                63697 non-null  object \n",
      " 3   melhor_data_vencimento        63727 non-null  object \n",
      " 4   melhor_valor_parcela          63697 non-null  object \n",
      " 5   atividade                     63825 non-null  object \n",
      " 6   tipo_atividade                48788 non-null  object \n",
      " 7   tempo_atividade               55418 non-null  object \n",
      " 8   tempo_atuacao_ramo_atividade  48763 non-null  object \n",
      " 9   total_receitas                63635 non-null  object \n",
      " 10  numero_de_pessoas_na_casa     44073 non-null  float64\n",
      " 11  situacao_do_imovel            44074 non-null  object \n",
      " 12  tempo_de_residancia__anos     44068 non-null  object \n",
      " 13  media_dos_faturamentos        63549 non-null  float64\n",
      "dtypes: float64(2), object(12)\n",
      "memory usage: 6.8+ MB\n"
     ]
    }
   ],
   "source": [
    "df_socio.info()"
   ]
  },
  {
   "cell_type": "code",
   "execution_count": 351,
   "id": "23a43a46-cdee-46fa-8aea-308064caed6d",
   "metadata": {},
   "outputs": [],
   "source": [
    "df = df_socio.copy()"
   ]
  },
  {
   "cell_type": "code",
   "execution_count": 352,
   "id": "775f66dd-cd5c-4708-9f45-8c91934961f0",
   "metadata": {},
   "outputs": [],
   "source": [
    "def convert_to_int(x):\n",
    "    try:\n",
    "        return int(x)\n",
    "    except:\n",
    "        return None\n",
    "def convert_to_float(x):\n",
    "    try:\n",
    "        return float(x)\n",
    "    except:\n",
    "        return None\n",
    "def convert_to_string(x):\n",
    "    if not x:\n",
    "        return 'Não Informado'\n",
    "    if type(x) != str:\n",
    "        return 'Não Informado'\n",
    "    return x"
   ]
  },
  {
   "cell_type": "code",
   "execution_count": 353,
   "id": "df5bddd7-bd3b-45fd-8c34-de1e133b1f12",
   "metadata": {},
   "outputs": [],
   "source": [
    "df['identificação'] = df['identificação'].apply(convert_to_int)\n",
    "df = df.loc[~df['identificação'].isna()]"
   ]
  },
  {
   "cell_type": "code",
   "execution_count": 354,
   "id": "941c60f0-4f67-43dc-a3c7-03c0f1c69204",
   "metadata": {},
   "outputs": [],
   "source": [
    "df['valor_solicitado'] = df['valor_solicitado'].apply(convert_to_float)"
   ]
  },
  {
   "cell_type": "code",
   "execution_count": 355,
   "id": "cd4d9435-fe99-499e-af72-f9a7a8bde382",
   "metadata": {},
   "outputs": [],
   "source": [
    "df['prazo_em_meses'] = df['prazo_em_meses'].apply(convert_to_int)"
   ]
  },
  {
   "cell_type": "code",
   "execution_count": 356,
   "id": "20b962e3-6d3d-4dfb-bc1d-3a49cb4bb7c9",
   "metadata": {},
   "outputs": [],
   "source": [
    "df['melhor_data_vencimento'] = df['melhor_data_vencimento'].apply(convert_to_int)"
   ]
  },
  {
   "cell_type": "code",
   "execution_count": 357,
   "id": "08bc5955-92f8-46f6-870f-3a623b4bf31c",
   "metadata": {},
   "outputs": [],
   "source": [
    "df['melhor_valor_parcela'] = df['melhor_valor_parcela'].apply(convert_to_float)"
   ]
  },
  {
   "cell_type": "code",
   "execution_count": 358,
   "id": "97259ed0-c4d8-46aa-9ffd-209b1b09b8a1",
   "metadata": {},
   "outputs": [],
   "source": [
    "df['atividade'] = pd.Categorical(df['atividade'])"
   ]
  },
  {
   "cell_type": "code",
   "execution_count": 359,
   "id": "3bd134ab-33bc-4fb9-89af-f2c868dbc642",
   "metadata": {},
   "outputs": [],
   "source": [
    "df['tipo_atividade'] = df['tipo_atividade'].apply(convert_to_string)\n",
    "df['tipo_atividade'] = pd.Categorical(df['tipo_atividade'])"
   ]
  },
  {
   "cell_type": "code",
   "execution_count": 360,
   "id": "972ef198-8e6b-434e-a717-ac5245be61fc",
   "metadata": {},
   "outputs": [],
   "source": [
    "df['tempo_atividade'] = df['tempo_atividade'].apply(convert_to_string)\n",
    "df['tempo_atividade'] = pd.Categorical(df['tempo_atividade'])"
   ]
  },
  {
   "cell_type": "code",
   "execution_count": 361,
   "id": "21716b7e-bfa9-4d23-a88a-12699941f0c8",
   "metadata": {},
   "outputs": [],
   "source": [
    "df['tempo_atuacao_ramo_atividade'] = df['tempo_atuacao_ramo_atividade'].apply(convert_to_string)\n",
    "df['tempo_atuacao_ramo_atividade'] = pd.Categorical(df['tempo_atuacao_ramo_atividade'])"
   ]
  },
  {
   "cell_type": "code",
   "execution_count": 362,
   "id": "c4dc4822-119e-4549-871e-c91a4c3704e7",
   "metadata": {},
   "outputs": [],
   "source": [
    "df['total_receitas'] = df['total_receitas'].apply(convert_to_float)"
   ]
  },
  {
   "cell_type": "code",
   "execution_count": 363,
   "id": "d9036b85-6b22-4a5b-851e-af8bbc290d7a",
   "metadata": {},
   "outputs": [],
   "source": [
    "df['situacao_do_imovel'] = df['situacao_do_imovel'].apply(convert_to_string)\n",
    "df['situacao_do_imovel'] = pd.Categorical(df['situacao_do_imovel'])"
   ]
  },
  {
   "cell_type": "code",
   "execution_count": 364,
   "id": "3d2b1caa-babf-4f21-8aae-da55a6b487be",
   "metadata": {},
   "outputs": [],
   "source": [
    "df['tempo_de_residancia__anos'] = df['tempo_de_residancia__anos'].apply(convert_to_string)\n",
    "df['tempo_de_residancia__anos'] = pd.Categorical(df['tempo_de_residancia__anos'])"
   ]
  },
  {
   "cell_type": "code",
   "execution_count": 365,
   "id": "0e7f120c-ed3b-4074-b7a5-3ea80dc1c6a5",
   "metadata": {},
   "outputs": [
    {
     "name": "stdout",
     "output_type": "stream",
     "text": [
      "<class 'pandas.core.frame.DataFrame'>\n",
      "Int64Index: 63676 entries, 0 to 63824\n",
      "Data columns (total 14 columns):\n",
      " #   Column                        Non-Null Count  Dtype   \n",
      "---  ------                        --------------  -----   \n",
      " 0   identificação                 63676 non-null  float64 \n",
      " 1   valor_solicitado              63663 non-null  float64 \n",
      " 2   prazo_em_meses                63653 non-null  float64 \n",
      " 3   melhor_data_vencimento        62363 non-null  float64 \n",
      " 4   melhor_valor_parcela          63660 non-null  float64 \n",
      " 5   atividade                     63676 non-null  category\n",
      " 6   tipo_atividade                63676 non-null  category\n",
      " 7   tempo_atividade               63676 non-null  category\n",
      " 8   tempo_atuacao_ramo_atividade  63676 non-null  category\n",
      " 9   total_receitas                63583 non-null  float64 \n",
      " 10  numero_de_pessoas_na_casa     44033 non-null  float64 \n",
      " 11  situacao_do_imovel            63676 non-null  category\n",
      " 12  tempo_de_residancia__anos     63676 non-null  category\n",
      " 13  media_dos_faturamentos        63546 non-null  float64 \n",
      "dtypes: category(6), float64(8)\n",
      "memory usage: 4.7 MB\n"
     ]
    }
   ],
   "source": [
    "df.info()"
   ]
  },
  {
   "cell_type": "code",
   "execution_count": 366,
   "id": "e54cb4de-aff9-407a-8f80-7719ab9f1e6e",
   "metadata": {},
   "outputs": [],
   "source": [
    "df = df.reset_index(drop = True)"
   ]
  },
  {
   "cell_type": "code",
   "execution_count": 367,
   "id": "e8697702-e08d-487e-9abd-2b10816da77c",
   "metadata": {},
   "outputs": [],
   "source": [
    "df.to_feather('BF_Dados_Socio_Economicos.feather')"
   ]
  }
 ],
 "metadata": {
  "kernelspec": {
   "display_name": "Python 3 (ipykernel)",
   "language": "python",
   "name": "python3"
  },
  "language_info": {
   "codemirror_mode": {
    "name": "ipython",
    "version": 3
   },
   "file_extension": ".py",
   "mimetype": "text/x-python",
   "name": "python",
   "nbconvert_exporter": "python",
   "pygments_lexer": "ipython3",
   "version": "3.7.11"
  }
 },
 "nbformat": 4,
 "nbformat_minor": 5
}
