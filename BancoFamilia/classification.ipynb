{
 "cells": [
  {
   "cell_type": "code",
   "execution_count": 1,
   "metadata": {},
   "outputs": [],
   "source": [
    "import pandas as pd\n",
    "import numpy as np\n",
    "import matplotlib.pyplot as plt\n",
    "import seaborn as sns\n",
    "import matplotlib.pyplot as plt\n",
    "from functions import *\n",
    "from sklearn.model_selection import train_test_split\n",
    "import warnings"
   ]
  },
  {
   "cell_type": "code",
   "execution_count": 136,
   "metadata": {},
   "outputs": [],
   "source": [
    "socio = pd.read_feather('BF_Dados_Socio_Economicos.feather')\n",
    "socio = socio.drop_duplicates('identificação')\n",
    "cont = pd.read_feather('BF_Dados_Contratos.feather')\n",
    "cont = cont.loc[cont['CONTRATO'] > 40000]\n",
    "df = cont.join(socio.set_index('identificação'),on = 'IDENTIFICAÇÃO')\n",
    "df = df.loc[~df['atividade'].isna()]\n",
    "df['DEFAULT'] = df['ATRASO_DIAS'] > 90\n",
    "df.loc[df['numero_de_pessoas_na_casa'] > 10,'numero_de_pessoas_na_casa'] = 10\n",
    "serie = df['numero_de_pessoas_na_casa'].dropna()\n",
    "df.loc[df['numero_de_pessoas_na_casa'].isna(),'numero_de_pessoas_na_casa'] = np.random.normal(serie.mean(),serie.std(),df['numero_de_pessoas_na_casa'].isna().sum())\n",
    "df['numero_de_pessoas_na_casa'] = df['numero_de_pessoas_na_casa'].apply(lambda x: round(abs(x)))\n",
    "df = df.dropna().sample(frac = 1).reset_index(drop = True)\n",
    "to_drop = ['SITUACAO','QUANTIDADE_PAGAS','ATRASO_DIAS','ATRASO_MAXIMO','RENEGOCIADO','BAIRRO','CONTRATO','IDENTIFICAÇÃO','CEP','melhor_data_vencimento','QUANTIDADE_PARCELAS','VALOR_EMPRESTIMO','PRESTACAO','valor_solicitado','melhor_valor_parcela']\n",
    "df = df.drop(to_drop,axis = 1)"
   ]
  },
  {
   "attachments": {},
   "cell_type": "markdown",
   "metadata": {},
   "source": [
    "### Transformação e separação treino-teste"
   ]
  },
  {
   "cell_type": "code",
   "execution_count": 137,
   "metadata": {},
   "outputs": [],
   "source": [
    "df = numerize_dummie(df)\n",
    "x_train,x_test,y_train,y_test = train_test_split(df.drop('DEFAULT',axis = 1).values,df['DEFAULT'].values,test_size = 0.25)"
   ]
  },
  {
   "attachments": {},
   "cell_type": "markdown",
   "metadata": {},
   "source": [
    "### Definição de métrica\n",
    "F-beta score"
   ]
  },
  {
   "cell_type": "code",
   "execution_count": 138,
   "metadata": {},
   "outputs": [],
   "source": [
    "from sklearn.metrics import fbeta_score,recall_score,precision_score\n",
    "from sklearn.metrics import make_scorer"
   ]
  },
  {
   "cell_type": "code",
   "execution_count": 139,
   "metadata": {},
   "outputs": [],
   "source": [
    "peso_recall = 0.5\n",
    "metric = lambda real,pred: fbeta_score(real,pred,beta = peso_recall)\n",
    "scorer = make_scorer(fbeta_score,beta = peso_recall)\n",
    "# metric = lambda real,pred: ((((real == 1) & (pred == 1)).sum() / (pred == 1).sum() if (pred == 1).sum() != 0 else 0) + recall_score(real,pred)) / 2\n",
    "# scorer = make_scorer(metric)"
   ]
  },
  {
   "cell_type": "code",
   "execution_count": 140,
   "metadata": {},
   "outputs": [
    {
     "name": "stdout",
     "output_type": "stream",
     "text": [
      "Métricas para previsão de 100% negativo:\n",
      "Score: 0.000\n",
      "Precision: 0.000\n",
      "Recall: 0.000\n",
      "\n",
      "\n",
      "Métricas para previsão de 100% positivo:\n",
      "Score: 0.051\n",
      "Precision: 0.041\n",
      "Recall: 1.000\n"
     ]
    }
   ],
   "source": [
    "with warnings.catch_warnings():\n",
    "    warnings.simplefilter(\"ignore\")\n",
    "    print('Métricas para previsão de 100% negativo:')\n",
    "    print('Score:','%.3f' % metric(y_test,np.zeros(y_test.shape)))\n",
    "    print('Precision:','%.3f' % precision_score(y_test,np.zeros(y_test.shape)))\n",
    "    print('Recall:','%.3f' % recall_score(y_test,np.zeros(y_test.shape)))\n",
    "    print('\\n')\n",
    "    print('Métricas para previsão de 100% positivo:')\n",
    "    print('Score:','%.3f' % metric(y_test,np.ones(y_test.shape)))\n",
    "    print('Precision:','%.3f' % precision_score(y_test,np.ones(y_test.shape)))\n",
    "    print('Recall:','%.3f' % recall_score(y_test,np.ones(y_test.shape)))"
   ]
  },
  {
   "attachments": {},
   "cell_type": "markdown",
   "metadata": {},
   "source": [
    "#### Modelo 0: Simple XGBoost"
   ]
  },
  {
   "cell_type": "code",
   "execution_count": 141,
   "metadata": {},
   "outputs": [],
   "source": [
    "from xgboost import XGBClassifier"
   ]
  },
  {
   "cell_type": "code",
   "execution_count": 142,
   "metadata": {},
   "outputs": [
    {
     "name": "stdout",
     "output_type": "stream",
     "text": [
      "Score: 0.019\n",
      "Precision: 0.429\n",
      "Recall: 0.004\n"
     ]
    }
   ],
   "source": [
    "xgb_model = XGBClassifier().fit(x_train, y_train)\n",
    "prediction = xgb_model.predict(x_test)\n",
    "print('Score:','%.3f' % metric(y_test,prediction))\n",
    "print('Precision:','%.3f' % precision_score(y_test,prediction))\n",
    "print('Recall:','%.3f' % recall_score(y_test,prediction))"
   ]
  },
  {
   "attachments": {},
   "cell_type": "markdown",
   "metadata": {},
   "source": [
    "#### Modelo 1: Random Forest"
   ]
  },
  {
   "cell_type": "code",
   "execution_count": 143,
   "metadata": {},
   "outputs": [],
   "source": [
    "from sklearn.ensemble import RandomForestClassifier"
   ]
  },
  {
   "cell_type": "code",
   "execution_count": 144,
   "metadata": {},
   "outputs": [
    {
     "name": "stdout",
     "output_type": "stream",
     "text": [
      "Score: 0.019\n",
      "Precision: 0.429\n",
      "Recall: 0.004\n"
     ]
    }
   ],
   "source": [
    "rf_model = RandomForestClassifier()\n",
    "rf_model.fit(x_train,y_train)\n",
    "pediction = rf_model.predict(x_test)\n",
    "print('Score:','%.3f' % metric(y_test,prediction))\n",
    "print('Precision:','%.3f' % precision_score(y_test,prediction))\n",
    "print('Recall:','%.3f' % recall_score(y_test,prediction))"
   ]
  },
  {
   "attachments": {},
   "cell_type": "markdown",
   "metadata": {},
   "source": [
    "#### Modelo 2: XGBoost com scale-pos-weight"
   ]
  },
  {
   "cell_type": "code",
   "execution_count": 145,
   "metadata": {},
   "outputs": [
    {
     "name": "stdout",
     "output_type": "stream",
     "text": [
      "Score: 0.151\n",
      "Precision: 0.170\n",
      "Recall: 0.104\n"
     ]
    }
   ],
   "source": [
    "xgb_model = XGBClassifier(scale_pos_weight = 5).fit(x_train, y_train)\n",
    "prediction = xgb_model.predict(x_test)\n",
    "print('Score:','%.3f' % metric(y_test,prediction))\n",
    "print('Precision:','%.3f' % precision_score(y_test,prediction))\n",
    "print('Recall:','%.3f' % recall_score(y_test,prediction))"
   ]
  },
  {
   "attachments": {},
   "cell_type": "markdown",
   "metadata": {},
   "source": [
    "#### Modelo 3: SMOTE oversampling"
   ]
  },
  {
   "cell_type": "code",
   "execution_count": 146,
   "metadata": {},
   "outputs": [],
   "source": [
    "from imblearn.over_sampling import SMOTE"
   ]
  },
  {
   "cell_type": "code",
   "execution_count": 147,
   "metadata": {},
   "outputs": [
    {
     "name": "stdout",
     "output_type": "stream",
     "text": [
      "Score: 0.068\n",
      "Precision: 0.181\n",
      "Recall: 0.020\n"
     ]
    }
   ],
   "source": [
    "smote = SMOTE()\n",
    "x_smote, y_smote = smote.fit_resample(x_train, y_train)\n",
    "xgb_model = XGBClassifier().fit(x_smote, y_smote)\n",
    "prediction = xgb_model.predict(x_test)\n",
    "print('Score:','%.3f' % metric(y_test,prediction))\n",
    "print('Precision:','%.3f' % precision_score(y_test,prediction))\n",
    "print('Recall:','%.3f' % recall_score(y_test,prediction))"
   ]
  },
  {
   "attachments": {},
   "cell_type": "markdown",
   "metadata": {},
   "source": [
    "#### Modelo 4: Tomek Links Undersampling"
   ]
  },
  {
   "cell_type": "code",
   "execution_count": 148,
   "metadata": {},
   "outputs": [],
   "source": [
    "from imblearn.under_sampling import TomekLinks"
   ]
  },
  {
   "cell_type": "code",
   "execution_count": 149,
   "metadata": {},
   "outputs": [
    {
     "name": "stdout",
     "output_type": "stream",
     "text": [
      "Score: 0.024\n",
      "Precision: 0.286\n",
      "Recall: 0.005\n"
     ]
    }
   ],
   "source": [
    "tl = TomekLinks(sampling_strategy='majority')\n",
    "x_tl, y_tl = tl.fit_resample(x_train, y_train)\n",
    "xgb_model = XGBClassifier().fit(x_tl, y_tl)\n",
    "prediction = xgb_model.predict(x_test)\n",
    "print('Score:','%.3f' % metric(y_test,prediction))\n",
    "print('Precision:','%.3f' % precision_score(y_test,prediction))\n",
    "print('Recall:','%.3f' % recall_score(y_test,prediction))"
   ]
  },
  {
   "attachments": {},
   "cell_type": "markdown",
   "metadata": {},
   "source": [
    "#### Modelo 5: XGBoost ajustado + SMOTE"
   ]
  },
  {
   "cell_type": "code",
   "execution_count": 150,
   "metadata": {},
   "outputs": [
    {
     "name": "stdout",
     "output_type": "stream",
     "text": [
      "Score: 0.121\n",
      "Precision: 0.104\n",
      "Recall: 0.336\n"
     ]
    }
   ],
   "source": [
    "smote = SMOTE()\n",
    "x_smote, y_smote = smote.fit_resample(x_train, y_train)\n",
    "xgb_model = XGBClassifier(scale_pos_weight = 9).fit(x_smote, y_smote)\n",
    "prediction = xgb_model.predict(x_test)\n",
    "print('Score:','%.3f' % metric(y_test,prediction))\n",
    "print('Precision:','%.3f' % precision_score(y_test,prediction))\n",
    "print('Recall:','%.3f' % recall_score(y_test,prediction))"
   ]
  },
  {
   "cell_type": "code",
   "execution_count": 151,
   "metadata": {},
   "outputs": [
    {
     "name": "stdout",
     "output_type": "stream",
     "text": [
      "Percentual de Falsos Positivos:\n",
      "12.315544213913237\n"
     ]
    }
   ],
   "source": [
    "print('Percentual de Falsos Positivos:')\n",
    "print(100 * ((prediction != y_test) & (y_test == 0)).sum() / (y_test == 0).sum())"
   ]
  },
  {
   "attachments": {},
   "cell_type": "markdown",
   "metadata": {},
   "source": [
    "#### Fine Tuning:"
   ]
  },
  {
   "cell_type": "code",
   "execution_count": 152,
   "metadata": {},
   "outputs": [],
   "source": [
    "from sklearn.model_selection import KFold\n",
    "from sklearn.model_selection import GridSearchCV"
   ]
  },
  {
   "cell_type": "code",
   "execution_count": 153,
   "metadata": {},
   "outputs": [
    {
     "name": "stdout",
     "output_type": "stream",
     "text": [
      "Fitting 4 folds for each of 11 candidates, totalling 44 fits\n"
     ]
    }
   ],
   "source": [
    "x,y = df.drop('DEFAULT',axis = 1).values,df['DEFAULT'].values\n",
    "cv = KFold(n_splits = 4)\n",
    "param_grid = {'scale_pos_weight':list(range(0,11))}\n",
    "model = XGBClassifier(eval_metric = scorer)\n",
    "grid = GridSearchCV(estimator = model, param_grid = param_grid, n_jobs = -1, cv = cv, scoring = scorer,verbose = 3)\n",
    "grid_result = grid.fit(x,y)"
   ]
  },
  {
   "cell_type": "code",
   "execution_count": 154,
   "metadata": {},
   "outputs": [
    {
     "name": "stdout",
     "output_type": "stream",
     "text": [
      "Melhor parâmetro: {'scale_pos_weight': 6}\n",
      "Score: 0.15922116434772088\n"
     ]
    }
   ],
   "source": [
    "print('Melhor parâmetro:',grid_result.best_params_)\n",
    "print('Score:',grid_result.best_score_)"
   ]
  },
  {
   "attachments": {},
   "cell_type": "markdown",
   "metadata": {},
   "source": [
    "#### Modelo Final: Tuned Params"
   ]
  },
  {
   "cell_type": "code",
   "execution_count": 155,
   "metadata": {},
   "outputs": [
    {
     "name": "stdout",
     "output_type": "stream",
     "text": [
      "Score: 0.129\n",
      "Precision: 0.135\n",
      "Recall: 0.110\n"
     ]
    }
   ],
   "source": [
    "xgb_model = XGBClassifier(scale_pos_weight = grid_result.best_params_['scale_pos_weight'],eval_metric = scorer).fit(x_train, y_train)\n",
    "prediction = xgb_model.predict(x_test)\n",
    "print('Score:','%.3f' % metric(y_test,prediction))\n",
    "print('Precision:','%.3f' % precision_score(y_test,prediction))\n",
    "print('Recall:','%.3f' % recall_score(y_test,prediction))"
   ]
  },
  {
   "cell_type": "code",
   "execution_count": 156,
   "metadata": {},
   "outputs": [
    {
     "name": "stdout",
     "output_type": "stream",
     "text": [
      "Percentual True Positives:\n",
      "13.461538461538462\n"
     ]
    }
   ],
   "source": [
    "print('Percentual True Positives:')\n",
    "print(100 * ((y_test == 1) & (prediction == 1)).sum() / (prediction == 1).sum())"
   ]
  },
  {
   "attachments": {},
   "cell_type": "markdown",
   "metadata": {},
   "source": [
    "#### Conclusão:\n",
    "O melhor modelo foi XGBoost com scale_pos_weight = 9 e rebalanceamento de classes com modelo SMOTE"
   ]
  },
  {
   "attachments": {},
   "cell_type": "markdown",
   "metadata": {},
   "source": [
    "##### Características do modelo:\n",
    "37% dos futuros inadimplentes são identificados, porém 8% dos futuros adimplentes são erroneamente excluídos"
   ]
  }
 ],
 "metadata": {
  "kernelspec": {
   "display_name": "Python 3",
   "language": "python",
   "name": "python3"
  },
  "language_info": {
   "codemirror_mode": {
    "name": "ipython",
    "version": 3
   },
   "file_extension": ".py",
   "mimetype": "text/x-python",
   "name": "python",
   "nbconvert_exporter": "python",
   "pygments_lexer": "ipython3",
   "version": "3.9.13"
  },
  "orig_nbformat": 4
 },
 "nbformat": 4,
 "nbformat_minor": 2
}
