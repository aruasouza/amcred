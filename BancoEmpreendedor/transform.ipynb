{
 "cells": [
  {
   "cell_type": "code",
   "execution_count": 1,
   "metadata": {},
   "outputs": [],
   "source": [
    "import pandas as pd\n",
    "import numpy as np"
   ]
  },
  {
   "cell_type": "code",
   "execution_count": 36,
   "metadata": {},
   "outputs": [],
   "source": [
    "df = pd.read_excel('CLIENTES BE 2019 A 2023.xlsx')"
   ]
  },
  {
   "cell_type": "code",
   "execution_count": 37,
   "metadata": {},
   "outputs": [
    {
     "name": "stdout",
     "output_type": "stream",
     "text": [
      "<class 'pandas.core.frame.DataFrame'>\n",
      "RangeIndex: 32437 entries, 0 to 32436\n",
      "Data columns (total 38 columns):\n",
      " #   Column                        Non-Null Count  Dtype         \n",
      "---  ------                        --------------  -----         \n",
      " 0   IDCliente                     32437 non-null  int64         \n",
      " 1   tempodeResidenciaAnos         9036 non-null   float64       \n",
      " 2   tempodeResidenciaMeses        471 non-null    float64       \n",
      " 3   situacaodoImoveldeResidencia  32437 non-null  object        \n",
      " 4   nroPessoasnaCasa              20953 non-null  float64       \n",
      " 5   situacaoImoveldeAtividade     32437 non-null  object        \n",
      " 6   tempoResidenciaImovel         416 non-null    float64       \n",
      " 7   finalDoContrato               1294 non-null   float64       \n",
      " 8   tipodePonto                   32437 non-null  object        \n",
      " 9   formacaoEscolar               32437 non-null  object        \n",
      " 10  atividadeExercida             32430 non-null  object        \n",
      " 11  tempodeAtividade              11668 non-null  float64       \n",
      " 12  constituicao                  32437 non-null  object        \n",
      " 13  pessoaFisicaJuridica          7 non-null      object        \n",
      " 14  numerodeFuncionarios          19776 non-null  float64       \n",
      " 15  rendaFamiliarMensal           32380 non-null  float64       \n",
      " 16  totaldasReceitas              32282 non-null  float64       \n",
      " 17  conceitoSPC                   12412 non-null  object        \n",
      " 18  dataDoSPC                     6836 non-null   datetime64[ns]\n",
      " 19  classificacao                 32413 non-null  object        \n",
      " 20  produto                       32437 non-null  object        \n",
      " 21  finalidadeEmprestimo          32437 non-null  object        \n",
      " 22  taxaaoMes                     32437 non-null  float64       \n",
      " 23  valorEmprestado               32437 non-null  float64       \n",
      " 24  quantidadeParcelas            32437 non-null  int64         \n",
      " 25  nroParcelasPagas              32437 non-null  int64         \n",
      " 26  dataEmprestimo                32437 non-null  datetime64[ns]\n",
      " 27  dataLiberacao                 29411 non-null  datetime64[ns]\n",
      " 28  dataCadastro                  32436 non-null  datetime64[ns]\n",
      " 29  primeiroVencimento            32437 non-null  datetime64[ns]\n",
      " 30  maiorAtrasoPagas              28644 non-null  float64       \n",
      " 31  situacaoCredito               32437 non-null  object        \n",
      " 32  CEP                           32437 non-null  object        \n",
      " 33  bairro                        32437 non-null  object        \n",
      " 34  cidade                        32437 non-null  object        \n",
      " 35  CEPEmpresa                    32420 non-null  object        \n",
      " 36  bairroEmpresa                 32174 non-null  object        \n",
      " 37  cidadeEmpresa                 32395 non-null  object        \n",
      "dtypes: datetime64[ns](5), float64(12), int64(3), object(18)\n",
      "memory usage: 9.4+ MB\n"
     ]
    }
   ],
   "source": [
    "df.info()"
   ]
  },
  {
   "cell_type": "code",
   "execution_count": 38,
   "metadata": {},
   "outputs": [],
   "source": [
    "for col in df.columns:\n",
    "    if df[col].dtype in ['float64','int64']:\n",
    "        if df[col].isna().sum() > 10000:\n",
    "            del(df[col])\n",
    "        else:\n",
    "            df[col] = df[col].fillna(df[col].dropna().mean())\n",
    "    elif df[col].dtype == 'object':\n",
    "        if df[col].isna().sum() > 10000:\n",
    "            del(df[col])\n",
    "        else:\n",
    "            df[col] = df[col].fillna('Não Informado')\n",
    "            df[col] = df[col].apply(str)\n",
    "    else:\n",
    "        if df[col].isna().sum() > 10000:\n",
    "            del(df[col])\n",
    "        else:\n",
    "            df = df.loc[~df[col].isna()]"
   ]
  },
  {
   "cell_type": "code",
   "execution_count": 39,
   "metadata": {},
   "outputs": [],
   "source": [
    "df = df.reset_index(drop = True)"
   ]
  },
  {
   "cell_type": "code",
   "execution_count": 41,
   "metadata": {},
   "outputs": [],
   "source": [
    "df.to_feather('clientes_be.feather')"
   ]
  }
 ],
 "metadata": {
  "kernelspec": {
   "display_name": "Python 3 (ipykernel)",
   "language": "python",
   "name": "python3"
  },
  "language_info": {
   "codemirror_mode": {
    "name": "ipython",
    "version": 3
   },
   "file_extension": ".py",
   "mimetype": "text/x-python",
   "name": "python",
   "nbconvert_exporter": "python",
   "pygments_lexer": "ipython3",
   "version": "3.7.11"
  }
 },
 "nbformat": 4,
 "nbformat_minor": 4
}
