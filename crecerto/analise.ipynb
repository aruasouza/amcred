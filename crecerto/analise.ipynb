{
 "cells": [
  {
   "cell_type": "code",
   "execution_count": 1,
   "metadata": {},
   "outputs": [],
   "source": [
    "import pandas as pd\n",
    "import numpy as np"
   ]
  },
  {
   "cell_type": "code",
   "execution_count": 53,
   "metadata": {},
   "outputs": [
    {
     "name": "stderr",
     "output_type": "stream",
     "text": [
      "C:\\Users\\aruav\\AppData\\Local\\Packages\\PythonSoftwareFoundation.Python.3.9_qbz5n2kfra8p0\\LocalCache\\local-packages\\Python39\\site-packages\\openpyxl\\worksheet\\_reader.py:312: UserWarning: Unknown extension is not supported and will be removed\n",
      "  warn(msg)\n"
     ]
    }
   ],
   "source": [
    "df = pd.read_excel('Relatório - Liberados e Reprovados.xlsx',header = 3)"
   ]
  },
  {
   "cell_type": "code",
   "execution_count": 54,
   "metadata": {},
   "outputs": [
    {
     "data": {
      "text/html": [
       "<div>\n",
       "<style scoped>\n",
       "    .dataframe tbody tr th:only-of-type {\n",
       "        vertical-align: middle;\n",
       "    }\n",
       "\n",
       "    .dataframe tbody tr th {\n",
       "        vertical-align: top;\n",
       "    }\n",
       "\n",
       "    .dataframe thead th {\n",
       "        text-align: right;\n",
       "    }\n",
       "</style>\n",
       "<table border=\"1\" class=\"dataframe\">\n",
       "  <thead>\n",
       "    <tr style=\"text-align: right;\">\n",
       "      <th></th>\n",
       "      <th>Código Cliente</th>\n",
       "      <th>Atividade</th>\n",
       "      <th>Gênero</th>\n",
       "      <th>Data Nascimento</th>\n",
       "      <th>PF/PJ</th>\n",
       "      <th>Contrato</th>\n",
       "      <th>Data Solicitação</th>\n",
       "      <th>Data Liberação/      Cancelamento</th>\n",
       "      <th>Primeiro Vencimento</th>\n",
       "      <th>Ultimo Vencimento</th>\n",
       "      <th>...</th>\n",
       "      <th>Garantia</th>\n",
       "      <th>Formação Escolar</th>\n",
       "      <th>Tempo Atuação</th>\n",
       "      <th>Funcionários</th>\n",
       "      <th>Renda Bruta</th>\n",
       "      <th>Receita Total</th>\n",
       "      <th>Taxa Adm</th>\n",
       "      <th>Classificação SPC</th>\n",
       "      <th>Classificação Empresa</th>\n",
       "      <th>Situação</th>\n",
       "    </tr>\n",
       "  </thead>\n",
       "  <tbody>\n",
       "    <tr>\n",
       "      <th>0</th>\n",
       "      <td>66608</td>\n",
       "      <td>EMPRESARIO</td>\n",
       "      <td>M</td>\n",
       "      <td>06/01/83</td>\n",
       "      <td>J</td>\n",
       "      <td>00066821-10</td>\n",
       "      <td>09/09/22</td>\n",
       "      <td>12/09/22</td>\n",
       "      <td>16/11/22</td>\n",
       "      <td>15/10/24</td>\n",
       "      <td>...</td>\n",
       "      <td>Aval</td>\n",
       "      <td>NaN</td>\n",
       "      <td>0.0</td>\n",
       "      <td>0.0</td>\n",
       "      <td>0,00</td>\n",
       "      <td>0,00</td>\n",
       "      <td>240,00</td>\n",
       "      <td>B</td>\n",
       "      <td>AA</td>\n",
       "      <td>Aprovado</td>\n",
       "    </tr>\n",
       "    <tr>\n",
       "      <th>1</th>\n",
       "      <td>58480</td>\n",
       "      <td>AUXILIAR DE PRODUÇÃO</td>\n",
       "      <td>M</td>\n",
       "      <td>16/11/77</td>\n",
       "      <td>F</td>\n",
       "      <td>20210611-02</td>\n",
       "      <td>11/06/21</td>\n",
       "      <td>16/06/21</td>\n",
       "      <td>15/07/21</td>\n",
       "      <td>15/02/23</td>\n",
       "      <td>...</td>\n",
       "      <td>Aval</td>\n",
       "      <td>Sem Instrução</td>\n",
       "      <td>0.0</td>\n",
       "      <td>0.0</td>\n",
       "      <td>0,00</td>\n",
       "      <td>0,00</td>\n",
       "      <td>60,00</td>\n",
       "      <td>F</td>\n",
       "      <td>AA</td>\n",
       "      <td>Aprovado</td>\n",
       "    </tr>\n",
       "    <tr>\n",
       "      <th>2</th>\n",
       "      <td>47344</td>\n",
       "      <td>ENCARREGADO</td>\n",
       "      <td>M</td>\n",
       "      <td>28/09/89</td>\n",
       "      <td>F</td>\n",
       "      <td>20190313-02</td>\n",
       "      <td>15/03/19</td>\n",
       "      <td>25/03/19</td>\n",
       "      <td>15/04/19</td>\n",
       "      <td>16/11/20</td>\n",
       "      <td>...</td>\n",
       "      <td>Aval</td>\n",
       "      <td>II Grau</td>\n",
       "      <td>95.0</td>\n",
       "      <td>0.0</td>\n",
       "      <td>0,00</td>\n",
       "      <td>0,00</td>\n",
       "      <td>141,00</td>\n",
       "      <td>C</td>\n",
       "      <td>F</td>\n",
       "      <td>Aprovado</td>\n",
       "    </tr>\n",
       "    <tr>\n",
       "      <th>3</th>\n",
       "      <td>47344</td>\n",
       "      <td>ENCARREGADO</td>\n",
       "      <td>M</td>\n",
       "      <td>28/09/89</td>\n",
       "      <td>F</td>\n",
       "      <td>20210303-09</td>\n",
       "      <td>04/03/21</td>\n",
       "      <td>12/03/21</td>\n",
       "      <td>12/04/21</td>\n",
       "      <td>10/03/22</td>\n",
       "      <td>...</td>\n",
       "      <td>Aval</td>\n",
       "      <td>II Grau</td>\n",
       "      <td>95.0</td>\n",
       "      <td>0.0</td>\n",
       "      <td>0,00</td>\n",
       "      <td>0,00</td>\n",
       "      <td>90,00</td>\n",
       "      <td>C</td>\n",
       "      <td>F</td>\n",
       "      <td>Aprovado</td>\n",
       "    </tr>\n",
       "    <tr>\n",
       "      <th>4</th>\n",
       "      <td>56583</td>\n",
       "      <td>AUXILIAR DE PRODUÇÃO</td>\n",
       "      <td>M</td>\n",
       "      <td>18/02/02</td>\n",
       "      <td>F</td>\n",
       "      <td>20201223-01</td>\n",
       "      <td>23/12/20</td>\n",
       "      <td>30/12/20</td>\n",
       "      <td>10/02/21</td>\n",
       "      <td>10/01/23</td>\n",
       "      <td>...</td>\n",
       "      <td>Aval</td>\n",
       "      <td>II Grau</td>\n",
       "      <td>0.0</td>\n",
       "      <td>0.0</td>\n",
       "      <td>0,00</td>\n",
       "      <td>0,00</td>\n",
       "      <td>90,00</td>\n",
       "      <td>D</td>\n",
       "      <td>AA</td>\n",
       "      <td>Aprovado</td>\n",
       "    </tr>\n",
       "  </tbody>\n",
       "</table>\n",
       "<p>5 rows × 38 columns</p>\n",
       "</div>"
      ],
      "text/plain": [
       "   Código Cliente             Atividade Gênero Data Nascimento PF/PJ  \\\n",
       "0           66608            EMPRESARIO      M        06/01/83     J   \n",
       "1           58480  AUXILIAR DE PRODUÇÃO      M        16/11/77     F   \n",
       "2           47344           ENCARREGADO      M        28/09/89     F   \n",
       "3           47344           ENCARREGADO      M        28/09/89     F   \n",
       "4           56583  AUXILIAR DE PRODUÇÃO      M        18/02/02     F   \n",
       "\n",
       "      Contrato Data Solicitação Data Liberação/      Cancelamento  \\\n",
       "0  00066821-10         09/09/22                          12/09/22   \n",
       "1  20210611-02         11/06/21                          16/06/21   \n",
       "2  20190313-02         15/03/19                          25/03/19   \n",
       "3  20210303-09         04/03/21                          12/03/21   \n",
       "4  20201223-01         23/12/20                          30/12/20   \n",
       "\n",
       "  Primeiro Vencimento Ultimo Vencimento  ... Garantia Formação Escolar  \\\n",
       "0            16/11/22          15/10/24  ...     Aval              NaN   \n",
       "1            15/07/21          15/02/23  ...     Aval    Sem Instrução   \n",
       "2            15/04/19          16/11/20  ...     Aval          II Grau   \n",
       "3            12/04/21          10/03/22  ...     Aval          II Grau   \n",
       "4            10/02/21          10/01/23  ...     Aval          II Grau   \n",
       "\n",
       "  Tempo Atuação Funcionários Renda Bruta Receita Total Taxa Adm  \\\n",
       "0           0.0          0.0        0,00          0,00   240,00   \n",
       "1           0.0          0.0        0,00          0,00    60,00   \n",
       "2          95.0          0.0        0,00          0,00   141,00   \n",
       "3          95.0          0.0        0,00          0,00    90,00   \n",
       "4           0.0          0.0        0,00          0,00    90,00   \n",
       "\n",
       "   Classificação SPC Classificação Empresa  Situação  \n",
       "0                  B                    AA  Aprovado  \n",
       "1                  F                    AA  Aprovado  \n",
       "2                  C                     F  Aprovado  \n",
       "3                  C                     F  Aprovado  \n",
       "4                  D                    AA  Aprovado  \n",
       "\n",
       "[5 rows x 38 columns]"
      ]
     },
     "execution_count": 54,
     "metadata": {},
     "output_type": "execute_result"
    }
   ],
   "source": [
    "df.head()"
   ]
  },
  {
   "cell_type": "code",
   "execution_count": 55,
   "metadata": {},
   "outputs": [
    {
     "name": "stdout",
     "output_type": "stream",
     "text": [
      "<class 'pandas.core.frame.DataFrame'>\n",
      "RangeIndex: 29637 entries, 0 to 29636\n",
      "Data columns (total 38 columns):\n",
      " #   Column                             Non-Null Count  Dtype  \n",
      "---  ------                             --------------  -----  \n",
      " 0   Código Cliente                     29637 non-null  int64  \n",
      " 1   Atividade                          29374 non-null  object \n",
      " 2   Gênero                             25219 non-null  object \n",
      " 3   Data Nascimento                    25218 non-null  object \n",
      " 4   PF/PJ                              29637 non-null  object \n",
      " 5   Contrato                           29637 non-null  object \n",
      " 6   Data Solicitação                   29022 non-null  object \n",
      " 7   Data Liberação/      Cancelamento  29637 non-null  object \n",
      " 8   Primeiro Vencimento                25219 non-null  object \n",
      " 9   Ultimo Vencimento                  25219 non-null  object \n",
      " 10  Taxa A.M.                          29637 non-null  object \n",
      " 11  Valor Emprestado                   29637 non-null  object \n",
      " 12  $ Corrigido                        29637 non-null  object \n",
      " 13  Finalidade                         29632 non-null  object \n",
      " 14  Produto                            29637 non-null  object \n",
      " 15  Filial                             29637 non-null  object \n",
      " 16  Constituição                       25218 non-null  object \n",
      " 17  Nº Créditos                        29637 non-null  int64  \n",
      " 18  $ Parcela                          25219 non-null  object \n",
      " 19  Nº Parcelas                        29637 non-null  int64  \n",
      " 20  Endereço Comercial                 11756 non-null  object \n",
      " 21  Cidade Comercial                   24663 non-null  object \n",
      " 22  Bairro Comercial                   16752 non-null  object \n",
      " 23  UF Comercial                       25211 non-null  object \n",
      " 24  Cidade Residencial                 25216 non-null  object \n",
      " 25  Bairro Residencial                 25196 non-null  object \n",
      " 26  UF Residencial                     25219 non-null  object \n",
      " 27  Renda Mensal                       29637 non-null  object \n",
      " 28  Garantia                           24982 non-null  object \n",
      " 29  Formação Escolar                   20954 non-null  object \n",
      " 30  Tempo Atuação                      25219 non-null  float64\n",
      " 31  Funcionários                       25219 non-null  float64\n",
      " 32  Renda Bruta                        25219 non-null  object \n",
      " 33  Receita Total                      25219 non-null  object \n",
      " 34  Taxa Adm                           25219 non-null  object \n",
      " 35  Classificação SPC                  24953 non-null  object \n",
      " 36  Classificação Empresa              25219 non-null  object \n",
      " 37  Situação                           29637 non-null  object \n",
      "dtypes: float64(2), int64(3), object(33)\n",
      "memory usage: 8.6+ MB\n"
     ]
    }
   ],
   "source": [
    "df.info()"
   ]
  },
  {
   "cell_type": "code",
   "execution_count": 56,
   "metadata": {},
   "outputs": [],
   "source": [
    "df['Atividade'] = pd.Categorical(df['Atividade'].fillna('ATIVIDADE NÃO INFORMADA'))"
   ]
  },
  {
   "cell_type": "code",
   "execution_count": 57,
   "metadata": {},
   "outputs": [],
   "source": [
    "df['Gênero'] = pd.Categorical(df['Gênero'].fillna('?'))"
   ]
  },
  {
   "cell_type": "code",
   "execution_count": 58,
   "metadata": {},
   "outputs": [],
   "source": [
    "df = df.loc[~df['Data Nascimento'].isna()]\n",
    "df['Data Nascimento'] = pd.to_datetime(df['Data Nascimento'],format = '%d/%m/%y')"
   ]
  },
  {
   "cell_type": "code",
   "execution_count": 59,
   "metadata": {},
   "outputs": [],
   "source": [
    "df['PF/PJ'] = pd.Categorical(df['PF/PJ'])"
   ]
  },
  {
   "cell_type": "code",
   "execution_count": 60,
   "metadata": {},
   "outputs": [],
   "source": [
    "df['Contrato'] = pd.Categorical(df['Contrato'])"
   ]
  },
  {
   "cell_type": "code",
   "execution_count": 61,
   "metadata": {},
   "outputs": [],
   "source": [
    "df = df.loc[~df['Data Solicitação'].isna()]\n",
    "df['Data Solicitação'] = pd.to_datetime(df['Data Solicitação'],format = '%d/%m/%y')"
   ]
  },
  {
   "cell_type": "code",
   "execution_count": 62,
   "metadata": {},
   "outputs": [],
   "source": [
    "df['Data Liberação/      Cancelamento'] = pd.to_datetime(df['Data Liberação/      Cancelamento'],format = '%d/%m/%y')"
   ]
  },
  {
   "cell_type": "code",
   "execution_count": 63,
   "metadata": {},
   "outputs": [],
   "source": [
    "df = df.rename({'Data Liberação/      Cancelamento':'Data Liberação/Cancelamento'},axis = 1)"
   ]
  },
  {
   "cell_type": "code",
   "execution_count": 64,
   "metadata": {},
   "outputs": [],
   "source": [
    "df['Primeiro Vencimento'] = pd.to_datetime(df['Primeiro Vencimento'],format = '%d/%m/%y')"
   ]
  },
  {
   "cell_type": "code",
   "execution_count": 65,
   "metadata": {},
   "outputs": [],
   "source": [
    "df['Ultimo Vencimento'] = pd.to_datetime(df['Ultimo Vencimento'],format = '%d/%m/%y')"
   ]
  },
  {
   "cell_type": "code",
   "execution_count": 66,
   "metadata": {},
   "outputs": [],
   "source": [
    "df['Taxa A.M.'] = df['Taxa A.M.'].apply(lambda x: float(x.replace('.','').replace(',','.')))"
   ]
  },
  {
   "cell_type": "code",
   "execution_count": 67,
   "metadata": {},
   "outputs": [],
   "source": [
    "df['Valor Emprestado'] = df['Valor Emprestado'].apply(lambda x: float(x.replace('.','').replace(',','.')))"
   ]
  },
  {
   "cell_type": "code",
   "execution_count": 68,
   "metadata": {},
   "outputs": [],
   "source": [
    "df['$ Corrigido'] = df['$ Corrigido'].apply(lambda x: float(x.replace('.','').replace(',','.')))"
   ]
  },
  {
   "cell_type": "code",
   "execution_count": 69,
   "metadata": {},
   "outputs": [],
   "source": [
    "df['Finalidade'] = pd.Categorical(df['Finalidade'])"
   ]
  },
  {
   "cell_type": "code",
   "execution_count": 70,
   "metadata": {},
   "outputs": [],
   "source": [
    "df['Produto'] = pd.Categorical(df['Produto'])"
   ]
  },
  {
   "cell_type": "code",
   "execution_count": 71,
   "metadata": {},
   "outputs": [],
   "source": [
    "df['Filial'] = pd.Categorical(df['Filial'])"
   ]
  },
  {
   "cell_type": "code",
   "execution_count": 72,
   "metadata": {},
   "outputs": [],
   "source": [
    "df = df.loc[~df['Constituição'].isna()]\n",
    "df['Constituição'] = pd.Categorical(df['Constituição'])"
   ]
  },
  {
   "cell_type": "code",
   "execution_count": 73,
   "metadata": {},
   "outputs": [],
   "source": [
    "df['Nº Créditos'] = df['Nº Créditos'].apply(int)"
   ]
  },
  {
   "cell_type": "code",
   "execution_count": 74,
   "metadata": {},
   "outputs": [],
   "source": [
    "df['$ Parcela'] = df['$ Parcela'].apply(lambda x: float(x.replace('.','').replace(',','.')))"
   ]
  },
  {
   "cell_type": "code",
   "execution_count": 76,
   "metadata": {},
   "outputs": [],
   "source": [
    "df['Nº Parcelas'] = df['Nº Parcelas'].apply(int)"
   ]
  },
  {
   "cell_type": "code",
   "execution_count": 78,
   "metadata": {},
   "outputs": [],
   "source": [
    "df['Endereço Comercial'] = pd.Categorical(df['Endereço Comercial'].fillna('ENDEREÇO COMERCIAL NÃO INFORMADO'))"
   ]
  },
  {
   "cell_type": "code",
   "execution_count": 80,
   "metadata": {},
   "outputs": [],
   "source": [
    "df['Cidade Comercial'] = pd.Categorical(df['Cidade Comercial'].fillna('CIDADE COMERCIAL NÃO INFORMADA'))"
   ]
  },
  {
   "cell_type": "code",
   "execution_count": 81,
   "metadata": {},
   "outputs": [],
   "source": [
    "df['Bairro Comercial'] = pd.Categorical(df['Bairro Comercial'].fillna('BAIRRO COMERCIAL NÃO INFORMADO'))"
   ]
  },
  {
   "cell_type": "code",
   "execution_count": 82,
   "metadata": {},
   "outputs": [],
   "source": [
    "df['UF Comercial'] = pd.Categorical(df['UF Comercial'].fillna('UF COMERCIAL NÃO INFORMADO'))"
   ]
  },
  {
   "cell_type": "code",
   "execution_count": 83,
   "metadata": {},
   "outputs": [],
   "source": [
    "df['Cidade Residencial'] = pd.Categorical(df['Cidade Residencial'].fillna('CIDADE RESIDENCIAL NÃO INFORMADA'))"
   ]
  },
  {
   "cell_type": "code",
   "execution_count": 85,
   "metadata": {},
   "outputs": [],
   "source": [
    "df['Bairro Residencial'] = pd.Categorical(df['Bairro Residencial'].fillna('BAIRRO RESIDENCIAL NÃO INFORMADO'))"
   ]
  },
  {
   "cell_type": "code",
   "execution_count": 86,
   "metadata": {},
   "outputs": [],
   "source": [
    "df['UF Residencial'] = pd.Categorical(df['UF Residencial'].fillna('UF RESIDENCIAL NÃO INFORMADO'))"
   ]
  },
  {
   "cell_type": "code",
   "execution_count": 88,
   "metadata": {},
   "outputs": [],
   "source": [
    "df['Renda Mensal'] = df['Renda Mensal'].apply(lambda x: float(x.replace('.','').replace(',','.')))"
   ]
  },
  {
   "cell_type": "code",
   "execution_count": 91,
   "metadata": {},
   "outputs": [],
   "source": [
    "df['Garantia'] = pd.Categorical(df['Garantia'].fillna('Sem garantia'))"
   ]
  },
  {
   "cell_type": "code",
   "execution_count": 93,
   "metadata": {},
   "outputs": [],
   "source": [
    "df['Formação Escolar'] = pd.Categorical(df['Formação Escolar'].fillna('Formação Não Informada'))"
   ]
  },
  {
   "cell_type": "code",
   "execution_count": 96,
   "metadata": {},
   "outputs": [],
   "source": [
    "df['Renda Bruta'] = df['Renda Bruta'].apply(lambda x: float(x.replace('.','').replace(',','.')))"
   ]
  },
  {
   "cell_type": "code",
   "execution_count": 98,
   "metadata": {},
   "outputs": [],
   "source": [
    "df['Receita Total'] = df['Receita Total'].apply(lambda x: float(x.replace('.','').replace(',','.')))"
   ]
  },
  {
   "cell_type": "code",
   "execution_count": 100,
   "metadata": {},
   "outputs": [],
   "source": [
    "df['Taxa Adm'] = df['Taxa Adm'].apply(lambda x: float(x.replace('.','').replace(',','.'))) "
   ]
  },
  {
   "cell_type": "code",
   "execution_count": 102,
   "metadata": {},
   "outputs": [],
   "source": [
    "df['Classificação SPC'] = pd.Categorical(df['Classificação SPC'].fillna('SPC Ausente'))"
   ]
  },
  {
   "cell_type": "code",
   "execution_count": 104,
   "metadata": {},
   "outputs": [],
   "source": [
    "df['Classificação Empresa'] = pd.Categorical(df['Classificação Empresa'])"
   ]
  },
  {
   "cell_type": "code",
   "execution_count": 106,
   "metadata": {},
   "outputs": [],
   "source": [
    "df['Situação'] = pd.Categorical(df['Situação'])"
   ]
  },
  {
   "cell_type": "code",
   "execution_count": 108,
   "metadata": {},
   "outputs": [],
   "source": [
    "df = df.reset_index(drop = True)"
   ]
  },
  {
   "cell_type": "code",
   "execution_count": 109,
   "metadata": {},
   "outputs": [],
   "source": [
    "df.to_feather('Relatório.feather')"
   ]
  },
  {
   "cell_type": "code",
   "execution_count": 84,
   "metadata": {},
   "outputs": [
    {
     "name": "stdout",
     "output_type": "stream",
     "text": [
      "<class 'pandas.core.frame.DataFrame'>\n",
      "Int64Index: 25217 entries, 1 to 25218\n",
      "Data columns (total 38 columns):\n",
      " #   Column                       Non-Null Count  Dtype         \n",
      "---  ------                       --------------  -----         \n",
      " 0   Código Cliente               25217 non-null  int64         \n",
      " 1   Atividade                    25217 non-null  category      \n",
      " 2   Gênero                       25217 non-null  category      \n",
      " 3   Data Nascimento              25217 non-null  datetime64[ns]\n",
      " 4   PF/PJ                        25217 non-null  category      \n",
      " 5   Contrato                     25217 non-null  category      \n",
      " 6   Data Solicitação             25217 non-null  datetime64[ns]\n",
      " 7   Data Liberação/Cancelamento  25217 non-null  datetime64[ns]\n",
      " 8   Primeiro Vencimento          25217 non-null  datetime64[ns]\n",
      " 9   Ultimo Vencimento            25217 non-null  datetime64[ns]\n",
      " 10  Taxa A.M.                    25217 non-null  float64       \n",
      " 11  Valor Emprestado             25217 non-null  float64       \n",
      " 12  $ Corrigido                  25217 non-null  float64       \n",
      " 13  Finalidade                   25212 non-null  category      \n",
      " 14  Produto                      25217 non-null  category      \n",
      " 15  Filial                       25217 non-null  category      \n",
      " 16  Constituição                 25217 non-null  category      \n",
      " 17  Nº Créditos                  25217 non-null  int64         \n",
      " 18  $ Parcela                    25217 non-null  float64       \n",
      " 19  Nº Parcelas                  25217 non-null  int64         \n",
      " 20  Endereço Comercial           25217 non-null  category      \n",
      " 21  Cidade Comercial             25217 non-null  category      \n",
      " 22  Bairro Comercial             25217 non-null  category      \n",
      " 23  UF Comercial                 25217 non-null  category      \n",
      " 24  Cidade Residencial           25217 non-null  category      \n",
      " 25  Bairro Residencial           25194 non-null  object        \n",
      " 26  UF Residencial               25217 non-null  object        \n",
      " 27  Renda Mensal                 25217 non-null  object        \n",
      " 28  Garantia                     21908 non-null  object        \n",
      " 29  Formação Escolar             20953 non-null  object        \n",
      " 30  Tempo Atuação                25217 non-null  float64       \n",
      " 31  Funcionários                 25217 non-null  float64       \n",
      " 32  Renda Bruta                  25217 non-null  object        \n",
      " 33  Receita Total                25217 non-null  object        \n",
      " 34  Taxa Adm                     25217 non-null  object        \n",
      " 35  Classificação SPC            21088 non-null  object        \n",
      " 36  Classificação Empresa        25217 non-null  object        \n",
      " 37  Situação                     25217 non-null  object        \n",
      "dtypes: category(13), datetime64[ns](5), float64(6), int64(3), object(11)\n",
      "memory usage: 6.2+ MB\n"
     ]
    }
   ],
   "source": [
    "df.info()"
   ]
  }
 ],
 "metadata": {
  "kernelspec": {
   "display_name": "Python 3",
   "language": "python",
   "name": "python3"
  },
  "language_info": {
   "codemirror_mode": {
    "name": "ipython",
    "version": 3
   },
   "file_extension": ".py",
   "mimetype": "text/x-python",
   "name": "python",
   "nbconvert_exporter": "python",
   "pygments_lexer": "ipython3",
   "version": "3.9.13"
  },
  "orig_nbformat": 4
 },
 "nbformat": 4,
 "nbformat_minor": 2
}
