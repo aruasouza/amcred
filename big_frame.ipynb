{
 "cells": [
  {
   "cell_type": "code",
   "execution_count": 1,
   "metadata": {},
   "outputs": [],
   "source": [
    "import pandas as pd\n",
    "import numpy as np\n",
    "from dateutil.relativedelta import relativedelta\n",
    "from datetime import datetime\n",
    "import json"
   ]
  },
  {
   "cell_type": "code",
   "execution_count": 2,
   "metadata": {},
   "outputs": [
    {
     "name": "stdout",
     "output_type": "stream",
     "text": [
      "11196 12823 24435 32437 31555\n"
     ]
    }
   ],
   "source": [
    "df1 = pd.read_excel('BLUSOL/CLIENTES BLUSOL 2019.xlsx')\n",
    "df2 = pd.read_excel('BLUSOL/CLIENTES BLUSOL 2020.xlsx')\n",
    "df3 = pd.read_excel('BLUSOL/CLIENTES BLUSOL 2021 A 2023.xlsx')\n",
    "df4 = pd.read_excel('BancoEmpreendedor/CLIENTES BE 2019 A 2023.xlsx')\n",
    "df5 = pd.read_excel('crecerto/CLIENTES CRECERTO 2019 A 2023.xlsx')\n",
    "print(len(df1),len(df2),len(df3),len(df4),len(df5))"
   ]
  },
  {
   "cell_type": "code",
   "execution_count": 3,
   "metadata": {},
   "outputs": [],
   "source": [
    "df = pd.concat([df1,df2,df3,df4,df5]).reset_index(drop = True)"
   ]
  },
  {
   "cell_type": "code",
   "execution_count": 4,
   "metadata": {},
   "outputs": [
    {
     "data": {
      "text/plain": [
       "112446"
      ]
     },
     "execution_count": 4,
     "metadata": {},
     "output_type": "execute_result"
    }
   ],
   "source": [
    "len(df)"
   ]
  },
  {
   "cell_type": "code",
   "execution_count": 5,
   "metadata": {},
   "outputs": [],
   "source": [
    "for i in range(3):\n",
    "    cols = list(df.columns)\n",
    "    res = [(a, b) for idx, a in enumerate(cols) for b in cols[idx + 1:]]\n",
    "    deleted = set()\n",
    "    for x,y in res:\n",
    "        if (x in deleted) or (y in deleted):\n",
    "            continue\n",
    "        newx = x.replace('Nº','nro').replace('PF/PJ','pessoaFisicaJuridica').replace('Score','conceito').replace('Data conceito SPC','datadospc').replace('numero','nro').replace('Classificacao Empresa','classificacao')\n",
    "        newy = y.replace('Nº','nro').replace('PF/PJ','pessoaFisicaJuridica').replace('Score','conceito').replace('Data conceito SPC','datadospc').replace('numero','nro').replace('Classificacao Empresa','classificacao')\n",
    "        if newx.lower().replace(' ','') == newy.lower().replace(' ',''):\n",
    "            new_col = df[x].fillna(df[y])\n",
    "            del(df[x])\n",
    "            deleted.add(x)\n",
    "            del(df[y])\n",
    "            deleted.add(y)\n",
    "            df[newx.lower().replace(' ','')] = new_col"
   ]
  },
  {
   "cell_type": "code",
   "execution_count": 6,
   "metadata": {},
   "outputs": [
    {
     "name": "stdout",
     "output_type": "stream",
     "text": [
      "CEP : 19521\n",
      "situacaodoimovelderesidencia : ['Propria', 'Alugada', 'Cedida', 'Outros']\n",
      "situacaoimoveldeatividade : ['Propria', 'Alugada', 'Outros']\n",
      "tipodeponto : ['Ambulante', 'Fixo']\n",
      "formacaoescolar : ['Fundamental', 'Médio', 'Superior', 'Pós-Graduação', 'Sem Instrução', 'Outros']\n",
      "atividadeexercida : 3324\n",
      "constituicao : ['Informal', 'M.E.I.', 'Microempresa', 'Outros', 'E.P.P.']\n",
      "pessoafisicajuridica : ['F', 'J', nan]\n",
      "classificacao : ['AA', 'A', 'D', 'H', 'C', 'B', 'E', 'G', 'F', nan]\n",
      "produto : ['MICROCRÉDITO', 'MICROCRÉDITO SOCIAL', 'BLUSOL CONSTRUIR', 'BLUSOL REFORMAR', 'CRÉDITO SOCIAL', 'CONSUMO', 'CHEQUES']\n",
      "finalidadeemprestimo : ['Giro', 'Fixo', 'Misto', 'Outros']\n",
      "dataemprestimo : 2201\n",
      "dataliberacao : 2191\n",
      "datacadastro : 98310\n",
      "primeirovencimento : 3013\n",
      "situacaocredito : ['Aprovado', 'Estornado']\n",
      "bairro : 3440\n",
      "cidade : 614\n",
      "cepempresa : 18167\n",
      "bairroempresa : 3091\n",
      "cidadeempresa : 644\n",
      "conceitospc : ['S', nan, 'N', 'B', 'D', 'F', 'C', 'A', 'E']\n",
      "datadospc : 2026\n"
     ]
    }
   ],
   "source": [
    "for column in df.columns:\n",
    "    if df[column].dtype == 'object':\n",
    "        uniq = df[column].unique()\n",
    "        if len(uniq) > 10:\n",
    "            print(column,':',len(uniq))\n",
    "        else:\n",
    "            print(column,':',list(uniq))"
   ]
  },
  {
   "cell_type": "code",
   "execution_count": 7,
   "metadata": {},
   "outputs": [
    {
     "name": "stdout",
     "output_type": "stream",
     "text": [
      "<class 'pandas.core.frame.DataFrame'>\n",
      "RangeIndex: 112446 entries, 0 to 112445\n",
      "Data columns (total 38 columns):\n",
      " #   Column                        Non-Null Count   Dtype  \n",
      "---  ------                        --------------   -----  \n",
      " 0   finalDoContrato               3123 non-null    float64\n",
      " 1   CEP                           112377 non-null  object \n",
      " 2   idcliente                     112446 non-null  float64\n",
      " 3   tempoderesidenciaanos         24241 non-null   float64\n",
      " 4   tempoderesidenciameses        3233 non-null    float64\n",
      " 5   situacaodoimovelderesidencia  112446 non-null  object \n",
      " 6   nropessoasnacasa              72705 non-null   float64\n",
      " 7   situacaoimoveldeatividade     112446 non-null  object \n",
      " 8   temporesidenciaimovel         1031 non-null    float64\n",
      " 9   tipodeponto                   112446 non-null  object \n",
      " 10  formacaoescolar               112446 non-null  object \n",
      " 11  atividadeexercida             112359 non-null  object \n",
      " 12  tempodeatividade              23026 non-null   float64\n",
      " 13  constituicao                  112446 non-null  object \n",
      " 14  pessoafisicajuridica          34189 non-null   object \n",
      " 15  nrodefuncionarios             76578 non-null   float64\n",
      " 16  rendafamiliarmensal           112263 non-null  float64\n",
      " 17  totaldasreceitas              108742 non-null  float64\n",
      " 18  classificacao                 112372 non-null  object \n",
      " 19  produto                       112446 non-null  object \n",
      " 20  finalidadeemprestimo          112446 non-null  object \n",
      " 21  taxaaomes                     112446 non-null  float64\n",
      " 22  valoremprestado               112446 non-null  float64\n",
      " 23  quantidadeparcelas            112446 non-null  float64\n",
      " 24  nroparcelaspagas              112446 non-null  float64\n",
      " 25  dataemprestimo                112446 non-null  object \n",
      " 26  dataliberacao                 105921 non-null  object \n",
      " 27  datacadastro                  112442 non-null  object \n",
      " 28  primeirovencimento            112433 non-null  object \n",
      " 29  maioratrasopagas              101041 non-null  float64\n",
      " 30  situacaocredito               112446 non-null  object \n",
      " 31  bairro                        112397 non-null  object \n",
      " 32  cidade                        112440 non-null  object \n",
      " 33  cepempresa                    112345 non-null  object \n",
      " 34  bairroempresa                 101406 non-null  object \n",
      " 35  cidadeempresa                 111623 non-null  object \n",
      " 36  conceitospc                   60762 non-null   object \n",
      " 37  datadospc                     45438 non-null   object \n",
      "dtypes: float64(15), object(23)\n",
      "memory usage: 32.6+ MB\n"
     ]
    }
   ],
   "source": [
    "df.info()"
   ]
  },
  {
   "cell_type": "code",
   "execution_count": 8,
   "metadata": {},
   "outputs": [
    {
     "data": {
      "text/plain": [
       "Index(['finalDoContrato', 'CEP', 'idcliente', 'tempoderesidenciaanos',\n",
       "       'tempoderesidenciameses', 'situacaodoimovelderesidencia',\n",
       "       'nropessoasnacasa', 'situacaoimoveldeatividade',\n",
       "       'temporesidenciaimovel', 'tipodeponto', 'formacaoescolar',\n",
       "       'atividadeexercida', 'tempodeatividade', 'constituicao',\n",
       "       'pessoafisicajuridica', 'nrodefuncionarios', 'rendafamiliarmensal',\n",
       "       'totaldasreceitas', 'classificacao', 'produto', 'finalidadeemprestimo',\n",
       "       'taxaaomes', 'valoremprestado', 'quantidadeparcelas',\n",
       "       'nroparcelaspagas', 'dataemprestimo', 'dataliberacao', 'datacadastro',\n",
       "       'primeirovencimento', 'maioratrasopagas', 'situacaocredito', 'bairro',\n",
       "       'cidade', 'cepempresa', 'bairroempresa', 'cidadeempresa', 'conceitospc',\n",
       "       'datadospc'],\n",
       "      dtype='object')"
      ]
     },
     "execution_count": 8,
     "metadata": {},
     "output_type": "execute_result"
    }
   ],
   "source": [
    "df.columns"
   ]
  },
  {
   "cell_type": "code",
   "execution_count": 10,
   "metadata": {},
   "outputs": [],
   "source": [
    "def corrigir_taxa(x):\n",
    "    if x >= 1000000:\n",
    "        return x / 100000000\n",
    "    return x / 100\n",
    "\n",
    "def valor_da_parcela(row):\n",
    "    taxa = row['taxaaomes']\n",
    "    vp = row['valoremprestado']\n",
    "    n = row['quantidadeparcelas']\n",
    "    if taxa == 0:\n",
    "        return vp / n\n",
    "    return vp * (taxa * ((1 + taxa) ** n)) / (((1 + taxa) ** n) - 1)\n",
    "\n",
    "def renda(row):\n",
    "    if pd.isnull(row['totaldasreceitas']):\n",
    "        if pd.isnull(row['rendafamiliarmensal']):\n",
    "            return 0\n",
    "        return row['rendafamiliarmensal']\n",
    "    if pd.isnull(row['rendafamiliarmensal']):\n",
    "        return row['totaldasreceitas']\n",
    "    return max(row['totaldasreceitas'],row['rendafamiliarmensal'])"
   ]
  },
  {
   "cell_type": "code",
   "execution_count": 11,
   "metadata": {},
   "outputs": [],
   "source": [
    "backup = df.copy()"
   ]
  },
  {
   "cell_type": "code",
   "execution_count": 12,
   "metadata": {},
   "outputs": [],
   "source": [
    "df = backup.copy()"
   ]
  },
  {
   "cell_type": "code",
   "execution_count": 13,
   "metadata": {},
   "outputs": [
    {
     "name": "stderr",
     "output_type": "stream",
     "text": [
      "C:\\Users\\aruav\\AppData\\Local\\Temp\\ipykernel_9408\\655652845.py:6: PerformanceWarning: Adding/subtracting object-dtype array to DatetimeArray not vectorized.\n",
      "  df['ultimaparcelapaga'] = df['primeirovencimento'] + df['nroparcelaspagas'].apply(lambda x: relativedelta(months = x - 1))\n"
     ]
    }
   ],
   "source": [
    "df = df[df['situacaocredito'] != 'Estornado']\n",
    "df = df[df['quantidadeparcelas'] != 0]\n",
    "df = df[~df['primeirovencimento'].isna()]\n",
    "df = df[~df['nroparcelaspagas'].isna()]\n",
    "df['primeirovencimento'] = pd.to_datetime(df['primeirovencimento'])\n",
    "df['ultimaparcelapaga'] = df['primeirovencimento'] + df['nroparcelaspagas'].apply(lambda x: relativedelta(months = x - 1))\n",
    "today = datetime(2023,4,20)\n",
    "df['diasdesdeultimaparcela'] = (today - df['ultimaparcelapaga']).apply(lambda x: x.days)\n",
    "df['taxaaomes'] = df['taxaaomes'].apply(corrigir_taxa)\n",
    "df['valorparcela'] = df.apply(valor_da_parcela,axis = 1)\n",
    "df['renda'] = df.apply(renda,axis = 1)\n",
    "df['pesoparcela'] = df['valorparcela'] / df['renda']\n",
    "df['pesoparcela'] = df['pesoparcela'].apply(lambda x: 1 if x > 1 else x)\n",
    "df['DEFAULT'] = (df['diasdesdeultimaparcela'] > 90) & (df['nroparcelaspagas'] != df['quantidadeparcelas'])\n",
    "df = df.drop(['atividadeexercida','idcliente','nroparcelaspagas','primeirovencimento',\n",
    "              'situacaocredito','ultimaparcelapaga','diasdesdeultimaparcela','renda',\n",
    "              'dataemprestimo','dataliberacao','datacadastro','primeirovencimento','maioratrasopagas','CEP','bairro','cidade',\n",
    "              'cepempresa','bairroempresa','cidadeempresa','datadospc','finalDoContrato','classificacao','produto'],axis = 1)"
   ]
  },
  {
   "cell_type": "code",
   "execution_count": 14,
   "metadata": {},
   "outputs": [
    {
     "name": "stdout",
     "output_type": "stream",
     "text": [
      "<class 'pandas.core.frame.DataFrame'>\n",
      "Index: 104482 entries, 0 to 112445\n",
      "Data columns (total 22 columns):\n",
      " #   Column                        Non-Null Count   Dtype  \n",
      "---  ------                        --------------   -----  \n",
      " 0   tempoderesidenciaanos         22120 non-null   float64\n",
      " 1   tempoderesidenciameses        3026 non-null    float64\n",
      " 2   situacaodoimovelderesidencia  104482 non-null  object \n",
      " 3   nropessoasnacasa              67216 non-null   float64\n",
      " 4   situacaoimoveldeatividade     104482 non-null  object \n",
      " 5   temporesidenciaimovel         893 non-null     float64\n",
      " 6   tipodeponto                   104482 non-null  object \n",
      " 7   formacaoescolar               104482 non-null  object \n",
      " 8   tempodeatividade              21529 non-null   float64\n",
      " 9   constituicao                  104482 non-null  object \n",
      " 10  pessoafisicajuridica          32957 non-null   object \n",
      " 11  nrodefuncionarios             70985 non-null   float64\n",
      " 12  rendafamiliarmensal           104323 non-null  float64\n",
      " 13  totaldasreceitas              100931 non-null  float64\n",
      " 14  finalidadeemprestimo          104482 non-null  object \n",
      " 15  taxaaomes                     104482 non-null  float64\n",
      " 16  valoremprestado               104482 non-null  float64\n",
      " 17  quantidadeparcelas            104482 non-null  float64\n",
      " 18  conceitospc                   56205 non-null   object \n",
      " 19  valorparcela                  104482 non-null  float64\n",
      " 20  pesoparcela                   104482 non-null  float64\n",
      " 21  DEFAULT                       104482 non-null  bool   \n",
      "dtypes: bool(1), float64(13), object(8)\n",
      "memory usage: 17.6+ MB\n"
     ]
    }
   ],
   "source": [
    "df.info()"
   ]
  },
  {
   "cell_type": "code",
   "execution_count": 15,
   "metadata": {},
   "outputs": [],
   "source": [
    "nafills = {}\n",
    "mandatory = []\n",
    "limit = 80000\n",
    "for col in df.drop(['pesoparcela','valorparcela'],axis = 1).columns:\n",
    "    nacount = df[col].isna().sum()\n",
    "    if df[col].dtype in ['float64','int64']:\n",
    "        if nacount > limit:\n",
    "            del(df[col])\n",
    "        elif nacount > 0:\n",
    "            median = df[col].median()\n",
    "            df[col] = df[col].fillna(median)\n",
    "            nafills[col] = median\n",
    "        else:\n",
    "            mandatory.append(col)\n",
    "    elif df[col].dtype == 'object':\n",
    "        if df[col].isna().sum() > limit:\n",
    "            del(df[col])\n",
    "        elif nacount > 0:\n",
    "            df[col] = df[col].fillna('Não Informado')\n",
    "            df[col] = df[col].apply(str)\n",
    "            nafills[col] = 'Não Informado'\n",
    "        else:\n",
    "            mandatory.append(col)\n",
    "\n",
    "with open('nafill.json','w',encoding=\"utf-8\") as file:\n",
    "    json.dump(nafills,file,ensure_ascii = False)\n",
    "\n",
    "with open('mandatory.json','w',encoding=\"utf-8\") as file:\n",
    "    json.dump(mandatory,file,ensure_ascii = False)"
   ]
  },
  {
   "cell_type": "code",
   "execution_count": 16,
   "metadata": {},
   "outputs": [],
   "source": [
    "order = list(df.drop(['DEFAULT'],axis = 1).columns)\n",
    "with open('ordem_atributos.json','w',encoding=\"utf-8\") as file:\n",
    "    json.dump(order,file,ensure_ascii = False)"
   ]
  },
  {
   "cell_type": "code",
   "execution_count": 263,
   "metadata": {},
   "outputs": [],
   "source": [
    "# df = df.drop(['valoremprestado','quantidadeparcelas'],axis = 1)"
   ]
  },
  {
   "cell_type": "code",
   "execution_count": 264,
   "metadata": {},
   "outputs": [],
   "source": [
    "df = df.reset_index(drop = True)"
   ]
  },
  {
   "cell_type": "code",
   "execution_count": 265,
   "metadata": {},
   "outputs": [],
   "source": [
    "permited_values = {}\n",
    "for col in df.columns:\n",
    "    if df[col].dtype == 'object':\n",
    "        permited = list(df[col].unique())\n",
    "        try:\n",
    "            permited.remove('Não Informado')\n",
    "        except ValueError:\n",
    "            pass\n",
    "        permited_values[col] = permited\n",
    "\n",
    "with open('permited_values.json','w',encoding=\"utf-8\") as file:\n",
    "    json.dump(permited_values,file,ensure_ascii = False)"
   ]
  },
  {
   "cell_type": "code",
   "execution_count": 266,
   "metadata": {},
   "outputs": [],
   "source": [
    "catdict = {}\n",
    "for column in df.columns:\n",
    "    if df[column].dtype == 'object':\n",
    "        cat = {}\n",
    "        uniq = df[column].unique()\n",
    "        for value in uniq:\n",
    "            sample = df.loc[df[column] == value].sample(frac = 0.5)\n",
    "            cat[value] = sample['DEFAULT'].sum() / len(sample)\n",
    "        catdict[column] = cat\n",
    "with open('categories.json','w',encoding=\"utf-8\") as file:\n",
    "    json.dump(catdict,file,ensure_ascii = False)"
   ]
  },
  {
   "cell_type": "code",
   "execution_count": 267,
   "metadata": {},
   "outputs": [],
   "source": [
    "catdict = json.load(open('categories.json','r',encoding = 'utf-8'))\n",
    "for column in df.columns:\n",
    "    if df[column].dtype == 'object':\n",
    "        df[column] = df[column].apply(lambda x: catdict[column][x])"
   ]
  },
  {
   "cell_type": "code",
   "execution_count": 268,
   "metadata": {},
   "outputs": [],
   "source": [
    "normalize_dict = {}\n",
    "for column in df.drop('DEFAULT',axis = 1).columns:\n",
    "    normalize_dict[column] = {'mean':df[column].mean(),'std':df[column].std()}\n",
    "with open('normalization.json','w',encoding=\"utf-8\") as file:\n",
    "    json.dump(normalize_dict,file,ensure_ascii = False)"
   ]
  },
  {
   "cell_type": "code",
   "execution_count": 269,
   "metadata": {},
   "outputs": [],
   "source": [
    "normalize_dict = json.load(open('normalization.json','r',encoding = 'utf-8'))\n",
    "for column in df.drop('DEFAULT',axis = 1).columns:\n",
    "    df[column] = (df[column] - normalize_dict[column]['mean']) / normalize_dict[column]['std']"
   ]
  },
  {
   "cell_type": "code",
   "execution_count": 270,
   "metadata": {},
   "outputs": [],
   "source": [
    "df.to_feather('big_frame_4.feather')"
   ]
  }
 ],
 "metadata": {
  "kernelspec": {
   "display_name": "Python 3 (ipykernel)",
   "language": "python",
   "name": "python3"
  },
  "language_info": {
   "codemirror_mode": {
    "name": "ipython",
    "version": 3
   },
   "file_extension": ".py",
   "mimetype": "text/x-python",
   "name": "python",
   "nbconvert_exporter": "python",
   "pygments_lexer": "ipython3",
   "version": "3.11.3"
  }
 },
 "nbformat": 4,
 "nbformat_minor": 4
}
